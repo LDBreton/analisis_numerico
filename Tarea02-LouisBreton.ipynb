{
 "metadata": {
  "name": "Tarea02-LouisBreton"
 },
 "nbformat": 3,
 "nbformat_minor": 0,
 "worksheets": [
  {
   "cells": [
    {
     "cell_type": "code",
     "collapsed": false,
     "input": [
      "    Tarea 2: Usando librer\u00edas de python"
     ],
     "language": "python",
     "metadata": {},
     "outputs": [
      {
       "ename": "SyntaxError",
       "evalue": "invalid syntax (<ipython-input-20-b8b93eff200b>, line 1)",
       "output_type": "pyerr",
       "traceback": [
        "\u001b[0;36m  File \u001b[0;32m\"<ipython-input-20-b8b93eff200b>\"\u001b[0;36m, line \u001b[0;32m1\u001b[0m\n\u001b[0;31m    Tarea 2: Usando librer\u00edas de python\u001b[0m\n\u001b[0m          ^\u001b[0m\n\u001b[0;31mSyntaxError\u001b[0m\u001b[0;31m:\u001b[0m invalid syntax\n"
       ]
      }
     ],
     "prompt_number": 20
    },
    {
     "cell_type": "markdown",
     "metadata": {},
     "source": [
      "**REGLAS:** (casi id\u00e9nticas a la semana anterior)\n",
      "\n",
      "- Usa Python para llevar a cabo las tareas\n",
      "\n",
      "- S\u00ed se permite el trabajo colaborativo, y de hecho se fomenta, pero se exige el uso de las neuronas de todos los que colaboren. Se vale entregar una sola tarea por grupo de 2 o (si es necesario) 3 personas.\n",
      "\n",
      "- La tarea se entrega como un *notebook* de IPython, y debe incluir notas, comentario y **TODO** lo est\u00e9ticamente necesario, que lo haga entendible para una tercer persona no involucrada en el curso. \n",
      "\n",
      "- Se recomienda usar una versi\u00f3n nueva de este mismo notebook, reemplazando \"[Respuestas aqu\u00ed]\" por tu discusi\u00f3n, c\u00f3digo, y resultados (en los tipos de celda que convengan, y con el n\u00famero de ellos que haga falta).\n",
      "\n",
      "- Cambia el nombre del notebook para reflejar el nombre que escojan para su grupo de trabajo, e.g. \"Tarea-01-profes\"\n",
      "\n",
      "- S\u00fabela a tu cuenta de github y haznos saber la direcci\u00f3n."
     ]
    },
    {
     "cell_type": "markdown",
     "metadata": {},
     "source": [
      "**1.** \n",
      "\n",
      "a. Eval\u00faa la funci\u00f3n racional\n",
      "$$\n",
      "R(x,y)= \\textstyle \\frac{33375}{100} y^6 + x^2 (11 x^2 y^2 - y^6 - 121 y^4 - 2) + \\frac{55}{10}y^8 + \\frac{x}{2 y}\n",
      "$$\n",
      "en los valores (enteros) $x=77617$ y $y=33096$. \n",
      "\n",
      "b. Verifica tu respuesta usando precisi\u00f3n extendida (librer\u00eda `mpmath` de `sympy`), digamos, con 30, 60, y 80 d\u00edgitos.\n",
      "\n",
      "c. Dado que se trata de una funci\u00f3n racional, uno esperar\u00eda que $R(77617,33096)$ sea un valor racional. \u00bfQu\u00e9 valor num\u00e9rico obtienes si utilizas la librer\u00eda `Rational` de `sympy`?\n"
     ]
    },
    {
     "cell_type": "markdown",
     "metadata": {},
     "source": [
      "a)"
     ]
    },
    {
     "cell_type": "code",
     "collapsed": false,
     "input": [
      "def R(x,y):\n",
      "    return (33375./100.)*y**6 + (x**2)*( 11.*(x**2)*(y**2)-y**6-121.*y**4-2 )+(55./10.)*y**8+ x/(2*y) \n",
      "\n",
      "#a)\n",
      "R(77617.,33096.)\n"
     ],
     "language": "python",
     "metadata": {},
     "outputs": [
      {
       "output_type": "pyout",
       "prompt_number": 22,
       "text": [
        "-1.1805916207174113e+21"
       ]
      }
     ],
     "prompt_number": 22
    },
    {
     "cell_type": "markdown",
     "metadata": {},
     "source": [
      "b)"
     ]
    },
    {
     "cell_type": "code",
     "collapsed": false,
     "input": [
      "def R(x,y):\n",
      "    return (33375./100.)*y**6 + (x**2)*( 11.*(x**2)*(y**2)-y**6-121.*y**4-2 )+(55./10.)*y**8+ x/(2*y) \n",
      "\n",
      "#b)\n",
      "import sympy.mpmath as mp\n",
      "for i in [30,60,80]:\n",
      "    mp.mp.dps = i\n",
      "    x = mp.mpf(77617.)\n",
      "    y = mp.mpf(33096.)\n",
      "    print R(x,y)"
     ],
     "language": "python",
     "metadata": {},
     "outputs": [
      {
       "output_type": "stream",
       "stream": "stdout",
       "text": [
        "1.17260394005317863185883490452\n",
        "-0.827396059946821368141165095479816291999033115784384819917815\n",
        "-0.82739605994682136814116509547981629199903311578438481991781484167270969301426154\n"
       ]
      }
     ],
     "prompt_number": 23
    },
    {
     "cell_type": "markdown",
     "metadata": {},
     "source": [
      "c)"
     ]
    },
    {
     "cell_type": "code",
     "collapsed": false,
     "input": [
      "def R(x,y):\n",
      "    return (33375./100.)*y**6 + (x**2)*( 11.*(x**2)*(y**2)-y**6-121.*y**4-2 )+(55./10.)*y**8+ x/(2*y) \n",
      "\n",
      "#c)\n",
      "from sympy import Rational\n",
      "x = Rational(77617,1)\n",
      "y = Rational(33096,1)\n",
      "\n",
      "print R(x,y)\n"
     ],
     "language": "python",
     "metadata": {},
     "outputs": [
      {
       "output_type": "stream",
       "stream": "stdout",
       "text": [
        "77617/66192\n"
       ]
      }
     ],
     "prompt_number": 24
    },
    {
     "cell_type": "markdown",
     "metadata": {},
     "source": [
      "**2.** \n",
      "\n",
      "Eval\u00faa num\u00e9ricamente (usando herramientas de Python) la integral\n",
      "$$\n",
      "I_1 = \\int_0^1 \\frac{1}{\\sqrt{\\pi}} \\exp \\left( -x^2 \\right) \\, dx\n",
      "$$"
     ]
    },
    {
     "cell_type": "code",
     "collapsed": false,
     "input": [
      "import sympy\n",
      "from sympy import init_printing, symbols, Integral, Rational\n",
      "init_printing()\n",
      "\n",
      "x = symbols(\"x\")\n",
      "inte = 1./sympy.sqrt(sympy.pi) * sympy.exp(-x**2) \n",
      "I = Integral(inte, (x, 0, 1))\n",
      "valor = I.doit()\n",
      "\n",
      "print \"el valor de la integral es\"\n",
      "valor.evalf()"
     ],
     "language": "python",
     "metadata": {},
     "outputs": [
      {
       "output_type": "stream",
       "stream": "stdout",
       "text": [
        "el valor de la integral es\n",
        "0.421350396474857\n"
       ]
      }
     ],
     "prompt_number": 25
    },
    {
     "cell_type": "markdown",
     "metadata": {},
     "source": [
      "**3.** \n",
      "\n",
      "a. Dibuja la funci\u00f3n \n",
      "$$\n",
      "f(x) = x^{-1} \\cos \\left( x^{-1} \\log{x} \\right)\n",
      "$$\n",
      "en el intervalo [0,1].\n",
      "\n",
      "b. Calcula ahora el *valor num\u00e9rico* de\n",
      "$$\n",
      "\\lim_{\\epsilon\\to 0} \\int_\\epsilon^1 f(x) \\, dx\n",
      "$$\n",
      "\n",
      "c. \u00bfC\u00f3mo podr\u00edas verificar si el valor num\u00e9rico que obtuviste es correcto en 10 decimales?"
     ]
    },
    {
     "cell_type": "markdown",
     "metadata": {},
     "source": [
      "a)"
     ]
    },
    {
     "cell_type": "code",
     "collapsed": false,
     "input": [
      "#*[Respuestas aqu\u00ed]*\n",
      "%pylab inline\n",
      "from matplotlib import pyplot as plt\n",
      "\n",
      "def f(x):\n",
      "    return (1./x)*np.cos((1./x)*np.log(x))\n",
      "\n",
      "x = np.linspace(0., 1., 10001)\n",
      "y = f(x)\n",
      "plt.plot(x, y)"
     ],
     "language": "python",
     "metadata": {},
     "outputs": [
      {
       "output_type": "stream",
       "stream": "stdout",
       "text": [
        "\n",
        "Welcome to pylab, a matplotlib-based Python environment [backend: module://IPython.zmq.pylab.backend_inline].\n",
        "For more information, type 'help(pylab)'.\n"
       ]
      },
      {
       "output_type": "pyout",
       "prompt_number": 64,
       "text": [
        "[<matplotlib.lines.Line2D at 0x74648d0>]"
       ]
      },
      {
       "output_type": "display_data",
       "png": "[encoded data removed]"
      }
     ],
     "prompt_number": 64
    },
    {
     "cell_type": "markdown",
     "metadata": {},
     "source": [
      "b) En realidad no existe un valor numerico para esta integral puesto que la funci\u00f3n no es de variaci\u00f3n acotada, esto se puede ver tomando la grafica de $$g(x) = \\frac{log(x)}{x}$$ con $x$ perteneciendo en el $(0,1]$ y redordando que $$f(x) = x^{-1} \\cos \\left( g(x) \\right)\n",
      "$$\n",
      "\n",
      "(La definici\u00f3n de una funci\u00f3n de variaci\u00f3n acotada es la siguiente: $f:[a,b]\\to \\mathbb{R}$ y sea $P=\\{x_o,x_1,...,x_{n+1}\\}$ una partici\u00f3n de $[a,b]$.\n",
      "Se dice que $f$ es de variation acotada en $[a,b]$ si \n",
      "$\\displaystyle \\sup_{P\\in \\mathscr{P}} \\sum_{i=0}^n |f(x_{i+1})-f(x_{i})|<\\infty$, done $\\mathscr{P}$ es la familia de particiones de $[a,b]$.\n",
      " )"
     ]
    },
    {
     "cell_type": "code",
     "collapsed": false,
     "input": [
      "def g(x):\n",
      "\n",
      "    return (1./x)*np.log(x)\n",
      "\n",
      "x = np.linspace(0.00000000000000001, 1., 10001)\n",
      "\n",
      "y = f(x)\n",
      "\n",
      "plt.plot(x, y)"
     ],
     "language": "python",
     "metadata": {},
     "outputs": [
      {
       "output_type": "pyout",
       "prompt_number": 8,
       "text": [
        "[<matplotlib.lines.Line2D at 0x4b6ef50>]"
       ]
      },
      {
       "output_type": "display_data",
       "png": "[encoded data removed]"
      }
     ],
     "prompt_number": 8
    },
    {
     "cell_type": "markdown",
     "metadata": {},
     "source": [
      "Se puede demostrar que $g(x)$ es una biyecci\u00f3n entre $(0,1]$ y $(-\\infty,0]$, y por lo tanto podemos tomar un sucesi\u00f3n decreciente ${\\{u_n\\}} \\rightarrow 0$\n",
      "talque: $$g(u_{n}) \\equiv 0 \\ [2 \\pi] $$\n",
      "         $$g(u_{n+1}) \\equiv -\\pi \\ [2 \\pi] $$\n",
      "tomando sea $P$ una partici\u00f3n que contenga a $\\{u_o,u_1,...,u_{n+1}\\}$ tenemos que \n",
      "$$\n",
      "Var_{0}^{1}(f,P) > \\sum_{i=0}^n |f(u_{i+1})-f(u_{i})| > n\n",
      "$$\n",
      "\n",
      "se sigue entonces que $f$ no es variaci\u00f3n acotada y por lo tanto \n",
      "$$\n",
      "\\lim_{\\epsilon\\to 0} \\int_\\epsilon^1 f(x) \\, dx\n",
      "$$\n",
      "no existe."
     ]
    },
    {
     "cell_type": "markdown",
     "metadata": {},
     "source": [
      "**4.**\n",
      "\n",
      "Completa las operaciones aritm\u00e9ticas (resta, multiplicaci\u00f3n y divisi\u00f3n) para la clase `Intervalo` que definimos en clase."
     ]
    },
    {
     "cell_type": "markdown",
     "metadata": {},
     "source": [
      "*[Respuestas aqu\u00ed]*"
     ]
    },
    {
     "cell_type": "code",
     "collapsed": false,
     "input": [
      "import numpy as np\n",
      "class Intervalo(object):\n",
      "    def __init__(self, min, max=None):\n",
      "        \n",
      "        if max is None:\n",
      "            max = min\n",
      "        \n",
      "        self.min = min\n",
      "        self.max = max\n",
      "        \n",
      "        \n",
      "    def __repr__(self):\n",
      "        #return \"Intervalo(%s, %s)\" % (self.min, self.max)\n",
      "        return \"Intervalo({}, {})\".format(self.min, self.max)\n",
      "    \n",
      "    def __str__(self):\n",
      "        return \"[{}, {}]\".format(self.min, self.max)\n",
      "        \n",
      "    # Para el IPython notebook:\n",
      "    def _repr_html_(self):\n",
      "        return \"[{}, {}]\".format(self.min, self.max)\n",
      "    \n",
      "#     def _repr_latex_(self):\n",
      "#         return \"$[{}^{}]$\".format(self.min, self.max)\n",
      "\n",
      "    def __add__(self, otro):\n",
      "        return Intervalo(self.min + otro.min, self.max + otro.max)\n",
      "    \n",
      "    def __sub__(self, otro):\n",
      "        return Intervalo(self.min - otro.max, self.max - otro.min)\n",
      "    \n",
      "    def __mul__(self, otro):\n",
      "        S = np.array([self.min*otro.min,self.max*otro.min,self.min*otro.max,self.max*otro.max])\n",
      "        minimo = np.min(S)\n",
      "        maximo = np.max(S)\n",
      "        return Intervalo(minimo, maximo)\n",
      "    \n",
      "    def inverso(self):\n",
      "        if self.min ==0 or self.max==0 :\n",
      "            return \"error\"\n",
      "        return Intervalo(1./self.max,1./self.min)\n",
      "    \n",
      "    def __div__(self,otro):\n",
      "        if otro.min ==0 or otro.max==0 :\n",
      "            return \"error\"\n",
      "        return self*(otro.inverso())\n",
      "    \n",
      "    def hull(self,otro):\n",
      "        minimo = min(self.min,otro.min)\n",
      "        maximo = max(self.max,otro.max)\n",
      "        return Intervalo(minimo,maximo)\n",
      "    \n",
      "    def intersec(self,otro):\n",
      "        minimo = max(self.min,otro.min)\n",
      "        maximo = min(self.max,otro.max)\n",
      "        if minimo > maximo:\n",
      "            return -1\n",
      "        return Intervalo(minimo,maximo)\n",
      "    \n",
      "    def union(self,otro):\n",
      "        if self.intersec(otro) != -1 :\n",
      "             minimo = min(self.min,otro.min)\n",
      "             maximo = max(self.max,otro.max)\n",
      "             return Intervalo(minimo,maximo)\n",
      "        return [self,otro]"
     ],
     "language": "python",
     "metadata": {},
     "outputs": [],
     "prompt_number": 42
    },
    {
     "cell_type": "code",
     "collapsed": false,
     "input": [
      "a = Intervalo(1,2)\n",
      "\n",
      "b = Intervalo(5,13)\n",
      "\n",
      "print a.hull(Intervalo(-5,-3))\n",
      "\n",
      "print a.intersec(Intervalo(1.5,5))\n",
      "\n",
      "print a.union(Intervalo(1.5,5))\n",
      "\n",
      "print a+b\n",
      "\n",
      "print a/b\n",
      "\n",
      "print a*b"
     ],
     "language": "python",
     "metadata": {},
     "outputs": [
      {
       "output_type": "stream",
       "stream": "stdout",
       "text": [
        "[-5, 2]\n",
        "[1.5, 2]\n",
        "[1, 5]\n",
        "[6, 15]\n",
        "[0.0769230769231, 0.4]\n",
        "[5, 26]\n"
       ]
      }
     ],
     "prompt_number": 50
    },
    {
     "cell_type": "code",
     "collapsed": false,
     "input": [],
     "language": "python",
     "metadata": {},
     "outputs": []
    }
   ],
   "metadata": {}
  }
 ]
}