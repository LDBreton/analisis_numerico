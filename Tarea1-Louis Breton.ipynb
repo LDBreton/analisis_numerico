{
 "metadata": {
  "name": "Tarea1-Louis Breton"
 },
 "nbformat": 3,
 "nbformat_minor": 0,
 "worksheets": [
  {
   "cells": [
    {
     "cell_type": "heading",
     "level": 1,
     "metadata": {},
     "source": [
      "Tarea 1: Ejercicios de calentamiento con Python"
     ]
    },
    {
     "cell_type": "markdown",
     "metadata": {},
     "source": [
      "**REGLAS:**\n",
      "\n",
      "- Usa Python para llevar a cabo las tareas. [O julia...]\n",
      "\n",
      "- S\u00ed se permite el trabajo colaborativo, y de hecho se fomenta, pero se exige el uso de las neuronas de todos los que colaboren. Se vale entregar una sola tarea por grupo de 2 o (si es necesario) 3 personas.\n",
      "\n",
      "- La tarea se entrega como un *notebook* de IPython, y debe incluir notas, comentario y **TODO** lo est\u00e9ticamente necesario, que lo haga entendible para una tercer persona no involucrada en el curso. \n",
      "\n",
      "- Se recomienda usar una versi\u00f3n nueva de este mismo notebook, reemplazando *[Respuesta aqu\u00ed] por tu discusi\u00f3n, c\u00f3digo, y resultados (en los tipos de celda que convengan, y con el n\u00famero de ellos que haga falta).\n",
      "\n",
      "- Cambia el nombre del notebook para reflejar el nombre que escojan para su grupo de trabajo, e.g. \"Tarea-01-profes\"\n",
      "\n",
      "\n"
     ]
    },
    {
     "cell_type": "markdown",
     "metadata": {},
     "source": [
      "**1.** Implementa (con Python) el llamado \"m\u00e9todo Babil\u00f3nico\" para calcular la ra\u00edz cuadrada de un \n",
      "n\u00famero dado, $y$. Este m\u00e9todo consiste en la iteraci\u00f3n \n",
      "$ x_{n+1} = \\frac{1}{2} ( x_n + \\frac{y}{x_n}). $\n",
      "\n",
      "a. \u00bfCu\u00e1ndo se deber\u00eda terminar la iteracion?\n",
      "\n",
      "b. \u00bfCu\u00e1l es la convergencia del m\u00e9todo?\n",
      "\n",
      "c. Calcula, usando este m\u00e9todo, la ra\u00edz cuadrada de los n\u00fameros $0$ hasta $10$, en pasos de $0.1$.\n",
      "\n",
      "d. \u00bfQu\u00e9 ser\u00eda bueno \"poder hacer\" --y que a\u00fan no hemos aprendido-- con este c\u00f3digo para poderlo correr muchas veces sin tener que incluirlo expl\u00edcitamente?"
     ]
    },
    {
     "cell_type": "markdown",
     "metadata": {},
     "source": [
      "*[Respuestas]*"
     ]
    },
    {
     "cell_type": "markdown",
     "metadata": {},
     "source": [
      "Codigo del metodo babilonico"
     ]
    },
    {
     "cell_type": "code",
     "collapsed": false,
     "input": [
      "#funcion que saca la raiz cuadrada con el metodo babilonica\n",
      "#xo valor inicial, y valor al cual queremos sacar la raiz, el numero tol esta explicado en el inciso a)\n",
      "def raiz_c(x0,y,tol):\n",
      "    m = 0\n",
      "    if x0 == 0 :\n",
      "        return \"error x0 no puede ser 0\"\n",
      "    if y == 0:\n",
      "        return 0\n",
      "    while abs(1-(x0**2)/y) >= tol:\n",
      "        x0 = 0.5*(x0+y/x0)\n",
      "    return x0\n",
      "\n",
      "#prueba \n",
      "raiz_c(1,4,10**(-10))\n"
     ],
     "language": "python",
     "metadata": {},
     "outputs": [
      {
       "output_type": "pyout",
       "prompt_number": 22,
       "text": [
        "2.000000000000002"
       ]
      }
     ],
     "prompt_number": 22
    },
    {
     "cell_type": "markdown",
     "metadata": {},
     "source": [
      "\n",
      "\n",
      "a) La iteraci\u00f3n deberia terminarce cuando $|1-\\frac{(x_n)\u00b2}{y}|< tol $ , $tol$ siendo un numero bastante peque\u00f1o (digamos por ejemplo $10^{-10}$ ), esto nos garantiza que el error relativo es muy peque\u00f1o y por lo tanto tenemos una buena aproximaci\u00f3n.\n",
      "\n"
     ]
    },
    {
     "cell_type": "markdown",
     "metadata": {},
     "source": [
      "b)\n",
      "Este metodo en realidad es el metodo de newton, si tomamos a $g(x) = x\u00b2 - y \\space $   y aplicamos el tipico metodo de Newton $ x_{n+1}=1-\\frac{g(x_n)}{g'(x_n)}$ obtenemos exactamente $ x_{n+1} = \\frac{1}{2} ( x_n + \\frac{y}{x_n}). $ Concluimos por ello que la convergencia es cuadratica, ya que la convergencia de Newton es cuadratica."
     ]
    },
    {
     "cell_type": "markdown",
     "metadata": {},
     "source": [
      "c)"
     ]
    },
    {
     "cell_type": "code",
     "collapsed": false,
     "input": [
      "#c)\n",
      "import numpy as np\n",
      "\n",
      "def raiz_c(x0,y,tol):\n",
      "    m = 0\n",
      "    if x0 == 0 :\n",
      "        return \"error x0 no puede ser 0\"\n",
      "    if y == 0:\n",
      "        return 0\n",
      "    while abs(1-(x0**2)/y) >= tol:\n",
      "        x0 = 0.5*(x0+y/x0)\n",
      "    return x0\n",
      "\n",
      "x = np.linspace(0,10,101)\n",
      "y = [raiz_c(4,valor,10**(-10)) for valor in x]\n",
      "\n",
      "print y"
     ],
     "language": "python",
     "metadata": {},
     "outputs": [
      {
       "output_type": "stream",
       "stream": "stdout",
       "text": [
        "[0, 0.31622776601683794, 0.44721359550025247, 0.54772255750516674, 0.63245553203367588, 0.70710678118654746, 0.77459666926087156, 0.836660026536718, 0.89442719100032209, 0.9486832980505826, 1.0000000000000127, 1.0488088481701541, 1.0954451150103328, 1.1401754250991383, 1.1832159566199234, 1.2247448713915889, 1.2649110640673518, 1.3038404810405297, 1.3416407864998738, 1.3784048752090223, 1.4142135623730949, 1.4491376746189439, 1.4832396974637998, 1.516575088834863, 1.549193338496571, 1.5811388300917828, 1.6124515496639766, 1.6431676725179112, 1.6733200530695234, 1.7029386365934247, 1.7320508075693279, 1.7606816861661612, 1.7888543819999825, 1.8165902124585829, 1.8439088914586288, 1.8708286933870006, 1.8973665961010453, 1.923538406167145, 1.9493588689617991, 1.9748417658131536, 2.0000000000000022, 2.0248456731316602, 2.0493901531919203, 2.0736441353327724, 2.0976176963403033, 2.1213203435596428, 2.1447610589527217, 2.16794833886788, 2.1908902300206647, 2.2135943621178655, 2.2360679774997898, 2.2583179581272432, 2.2803508501982761, 2.3021728866442679, 2.3237900077244502, 2.3452078799117149, 2.3664319132398468, 2.3874672772626644, 2.4083189157584592, 2.4289915602982237, 2.4494897427831779, 2.4698178070456942, 2.4899799195977463, 2.5099800796022267, 2.5298221281347035, 2.5495097567963922, 2.5690465157330262, 2.5884358212109948, 2.6076809621598223, 2.6267851073734727, 2.6457513111113693, 2.6645825189308345, 2.6832815730274007, 2.7018512172424805, 2.7202941017633515, 2.7386127875382762, 2.7568097504275544, 2.7748873851095768, 2.7928480087593144, 2.8106938645152413, 2.8284271247493797, 2.8460498941539578, 2.8635642126570984, 2.880972058178966, 2.8982753492389266, 2.9154759474234311, 2.9325756597236214, 2.9495762407509631, 2.9664793948385917, 2.9832867780355028, 3.0000000000001803, 3.0166206257998045, 3.033150177620719, 3.0495901363954543, 3.0659419433512314, 3.0822070014845275, 3.098386676965962, 3.1144823004795081, 3.1304951684997206, 3.1464265445104656, 3.1622776601683871]\n"
       ]
      }
     ],
     "prompt_number": 39
    },
    {
     "cell_type": "markdown",
     "metadata": {},
     "source": [
      "d) Seria bastante util crear un modulo tal como numpy, o matplotlib que contenga los metodos que desarollemos para solo tener que importarlos.\n",
      "\n"
     ]
    },
    {
     "cell_type": "markdown",
     "metadata": {},
     "source": [
      "**2.** Considera la f\u00f3rmula de recursi\u00f3n $ x_{n+1} = x_n^2 $. \n",
      "\n",
      "a. \u00bfCu\u00e1l es el valor del iterado $x_{75}$ cuando el valor inicial es $x_0=1-10^{-20}$, calculado num\u00e9ricamente? \n",
      "\n",
      "b. Compara el resultado num\u00e9rico obtenido con el que uno esperar\u00eda al elevar al cuadrado un n\u00famero ligeramente menor que 1 un \n",
      "mont\u00f3n de veces... \u00bfCu\u00e1l resultado es el correcto? \n",
      "\n",
      "c. \u00bfQu\u00e9 necesitar\u00edas para verificar esto num\u00e9ricamente?\n",
      "\n",
      "d. Suele ser una buena idea hacer el c\u00f3digo m\u00e1s general posible, para no repetir esfuerzos despu\u00e9s. \u00bfC\u00f3mo podr\u00edas escribir c\u00f3digo para la iteraci\u00f3n general $x_{n+1} = f(x_n)$, donde $f$ es una funci\u00f3n dada (una funci\u00f3n implementada con `def` en Python)?\n",
      "\n"
     ]
    },
    {
     "cell_type": "code",
     "collapsed": false,
     "input": [
      "#a)\n",
      "def cua_s(x,n):\n",
      "    m = 0\n",
      "    while m < n:\n",
      "        x = x*x\n",
      "        m = m+1\n",
      "    return x\n",
      "\n",
      "cua_s((1-10**(-20)),75)"
     ],
     "language": "python",
     "metadata": {},
     "outputs": [
      {
       "output_type": "pyout",
       "prompt_number": 38,
       "text": [
        "1.0"
       ]
      }
     ],
     "prompt_number": 38
    },
    {
     "cell_type": "markdown",
     "metadata": {},
     "source": [
      "*[Respuestas]*\n",
      "\n",
      "a) El valor obtenido numericamente es 1.\n",
      "\n",
      "b) El resultado al elevar al cuadrado un n\u00famero ligeramente menor que 1 un mont\u00f3n de veces es 0 puesto que $x\u00b2< x \\space{}\\forall x \\in (0,1) $, sin embargo python esta haciendo errores de redondeo y por se puede pensar que nos da el numero 1.\n",
      "\n",
      "c) Para verificar esto numericamente necesito augmentar la precion de mis numeros como minimo a 19."
     ]
    },
    {
     "cell_type": "code",
     "collapsed": false,
     "input": [
      "#c)\n",
      "def cua_s(x,n):\n",
      "    m = 0\n",
      "    while m < n:\n",
      "        x = x*x\n",
      "        m = m+1\n",
      "    return x\n",
      "import sympy.mpmath as mp\n",
      "mp.mp.dps = 19\n",
      "\n",
      "a = mp.mpf(10**(-20))\n",
      "b = mp.mpf(1.0)\n",
      "c = b-a\n",
      "\n",
      "d = cua_s(c,75)\n",
      "\n",
      "print d"
     ],
     "language": "python",
     "metadata": {},
     "outputs": [
      {
       "output_type": "stream",
       "stream": "stdout",
       "text": [
        "4.377490906614024673e-223\n"
       ]
      }
     ],
     "prompt_number": 63
    },
    {
     "cell_type": "markdown",
     "metadata": {},
     "source": [
      "d)"
     ]
    },
    {
     "cell_type": "code",
     "collapsed": false,
     "input": [
      "#d)\n",
      "def iteradora(funcion,x0,n):\n",
      "    m = 0\n",
      "    while m < n:\n",
      "        m = m +1\n",
      "        x0=funcion(x0)\n",
      "    return x0\n",
      "\n",
      "#ejemplo de uso:\n",
      "\n",
      "def cuadrada(x):\n",
      "    return x*x\n",
      "\n",
      "iteradora(cuadrada,2,2)"
     ],
     "language": "python",
     "metadata": {},
     "outputs": [
      {
       "output_type": "pyout",
       "prompt_number": 20,
       "text": [
        "16"
       ]
      }
     ],
     "prompt_number": 20
    },
    {
     "cell_type": "markdown",
     "metadata": {},
     "source": [
      "**3.** *\"Hace muchos muchos a\u00f1os, en un reino muy lejano...\"*, se le ocurri\u00f3 a Arqu\u00edmedes un m\u00e9todo para determinar el valor num\u00e9rico de $\\pi$. El m\u00e9todo consiste en considerar dos pol\u00edgonos regulares de $n$ lados, uno inscrito y otro circunscrito al c\u00edrculo, y ver c\u00f3mo el \u00e1rea de estos acota por abajo y arriba el \u00e1rea del c\u00edrculo. \n",
      "\n",
      "a. Da las cotas (inferior y superior) al \u00e1rea del c\u00edrculo de radio 1, *al menos* cuando $n=4$, $5$ y $6$ (o sea, las cotas que se obtienen usando los siguientes pol\u00edgonos regulares:  el cuadrado, el pent\u00e1gono y el hex\u00e1gono). \n",
      "\n",
      "[Arqu\u00edmedes seguramente hizo esto de manera emp\u00edrica, construyendo los pol\u00edgonos; para este ejercicio se \n",
      "vale utilizar lo que sabes de geometr\u00eda y trigonometr\u00eda.]\n",
      "\n",
      "b. \u00bfSe te ocurre c\u00f3mo obtener las cotas para $\\pi$ usando un pol\u00edgono regular de $n$ lados?\n",
      "\n",
      "(\u00c9ste es el **Ejercicio 1.1** del Moore-Kearfortt (2009); la soluci\u00f3n que ellos dan para $n=4$ me parece que est\u00e1 mal en la cota inferior.)"
     ]
    },
    {
     "cell_type": "markdown",
     "metadata": {},
     "source": [
      "Nota:\n",
      "Arqu\u00edmedes aproximo $\\pi$ con el hecho de que el hex\u00e1gono tiene lado $l=r$ al estar conformado de por triangulos equilateros. Y gracias a esto logro calcular las longitudes de los lados de los poligonos con n=12,24,48,96 (bisectando y utilizando pitagoras)."
     ]
    },
    {
     "cell_type": "markdown",
     "metadata": {},
     "source": [
      "*[Respuestas aqu\u00ed]*\n",
      "\n",
      "\n",
      "(Recordadon que $A_c= \\pi r\u00b2$ se sigue que las cotas inferiores de $\\pi$ son las areas de los poligonos de radio igual 1 y las cotas superiores son los poligonos con apotema igual 1\n",
      "\n",
      "a) facilmente podemos ver que el area de un poligono regular es $A_{rea}=\\frac{1}{2}nla$ donde $n$ es el numero de lados, $l$ la longitud de uno de sus lados, $a$ la altura de sus triangulos (apotema).\n",
      "Por pitagoras es facil deducir: $r\u00b2=a\u00b2+\\frac{1}{4}l\u00b2$  y por lo tanto tenemos que:\n",
      "$$A_{rea}=nl\\sqrt{r\u00b2-\\frac{1}{4}l\u00b2} .....(1) (inscrito)$$\n",
      "Ultilizando el trigonometria sabemos que: $tan\\frac{\\pi}{n}=\\frac{\\frac{l}{2}}{a}$\n",
      "$$A_{rea}=na\u00b2tan\\frac{\\pi}{n}.......(2)(circunscrito)$$\n",
      "\n",
      "\n",
      "Si tuvieramos un compas podriamos dibujar los vertices utilizando geometria constructiva pero sin embargo para fines practicos tomaremos los vertices de un poligono regular inscrito de n lados como las raices de la unidad variable compleja (las cuales pueden ser calculadas sin usar $\\pi$ para potencias pares) :\n",
      "$$Vertice_k= e^{\\frac{2\\pi ik}{n}} = cos({\\frac{2\\pi k}{n}}) + i sin({\\frac{2\\pi k}{n}}) $$ con $k = { 0,....n}$\n",
      "\n",
      "Viendo los vertices en $\\mathbb{R\u00b2}$ \n",
      "\n",
      "$$Vertice_k= (cos({\\frac{2\\pi k}{n}}), sin({\\frac{2\\pi k}{n}}) ) $$\n",
      "\n",
      "Queda claro entonces que $l=||Vertice_0-Vertice_1||=||(cos({\\frac{2\\pi}{n}})-1, sin({\\frac{2\\pi}{n}}) )|| .......(1.1)$\n",
      "\n",
      "\n",
      "Bueno para contestar al inciso utilizaremos (1) y (1.1) para la cota inferior y (2) para la cota superior"
     ]
    },
    {
     "cell_type": "code",
     "collapsed": false,
     "input": [
      "import numpy as np\n",
      "import sympy.mpmath as mp\n",
      "mp.mp.dps = 15\n",
      "\n",
      "def cota_inf(numero_vertices):\n",
      "    lv = np.array([mp.cos(2.0*mp.pi/numero_vertices)-1,mp.sin(2.0*mp.pi/numero_vertices)])\n",
      "    l2 = np.dot(lv,lv)\n",
      "    return 0.5*numero_vertices*mp.sqrt(l2)*mp.sqrt(1-0.25*(l2))\n",
      "\n",
      "def cota_sup(numero_vertices):\n",
      "    return numero_vertices*mp.tan(mp.pi/numero_vertices)\n",
      "\n",
      "m = 4\n",
      "while m <= 6:\n",
      "   \n",
      "    print \"cota inferior utilizando un poligono de %d lados\" %m \n",
      "    print cota_inf(m)\n",
      "    print \"cota superior utilizando un poligono de %d lados\" %m \n",
      "    print cota_sup(m)\n",
      "    m = m+1"
     ],
     "language": "python",
     "metadata": {},
     "outputs": [
      {
       "output_type": "stream",
       "stream": "stdout",
       "text": [
        "cota inferior utilizando un poligono de 4 lados\n",
        "2.0\n",
        "cota superior utilizando un poligono de 4 lados\n",
        "4.0\n",
        "cota inferior utilizando un poligono de 5 lados\n",
        "2.37764129073788\n",
        "cota superior utilizando un poligono de 5 lados\n",
        "3.6327126400268\n",
        "cota inferior utilizando un poligono de 6 lados\n",
        "2.59807621135332\n",
        "cota superior utilizando un poligono de 6 lados\n",
        "3.46410161513775\n"
       ]
      }
     ],
     "prompt_number": 49
    },
    {
     "cell_type": "markdown",
     "metadata": {},
     "source": [
      "b) El inciso se contesto en el a)"
     ]
    }
   ],
   "metadata": {}
  }
 ]
}